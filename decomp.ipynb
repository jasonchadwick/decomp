{
 "cells": [
  {
   "cell_type": "code",
   "execution_count": 1,
   "metadata": {},
   "outputs": [],
   "source": [
    "import os\n",
    "from qiskit import *\n",
    "from qiskit import QuantumCircuit, Aer\n",
    "import qiskit.circuit.library as library\n",
    "import sympy\n",
    "import numpy as np\n",
    "from numpy import pi\n",
    "from scipy import linalg\n",
    "from functools import reduce\n",
    "import itertools\n",
    "\n",
    "from utils.gates import *\n",
    "import utils.idx as idx\n",
    "import decomp\n",
    "\n",
    "import sympy"
   ]
  },
  {
   "cell_type": "code",
   "execution_count": 2,
   "metadata": {},
   "outputs": [],
   "source": [
    "def run_small():\n",
    "    fids = []\n",
    "    for dir in os.listdir('QASMBench/small'):\n",
    "        try:\n",
    "            print('='*80)\n",
    "            u = f'QASMBench/small/{dir}/{dir}.qasm'\n",
    "            print(dir)\n",
    "            d = decomp.Decomposer(u, False)\n",
    "            u = d.unitary\n",
    "\n",
    "            d.reconstruct_with_CX()\n",
    "            qc = d.circuit\n",
    "            backend = Aer.get_backend('unitary_simulator')\n",
    "            job = execute(qc, backend)\n",
    "            result = job.result()\n",
    "            unitary = np.array(result.get_unitary(qc, decimals=10))[:u.shape[0], :u.shape[0]]\n",
    "            print(fid(u,unitary))\n",
    "            fids.append((dir, fid(u,unitary)))\n",
    "            #print('SUCCESS,' if np.all(np.isclose(u, unitary)) else 'FAIL,', 'fidelity:', fid(u, unitary))\n",
    "            #display(sympy.Matrix(unitary))\n",
    "            #display(qc.draw(fold=150))\n",
    "        except Exception as e:\n",
    "            print(e)\n",
    "    return fids\n",
    "#f = run_small()"
   ]
  },
  {
   "cell_type": "code",
   "execution_count": 9,
   "metadata": {},
   "outputs": [
    {
     "name": "stdout",
     "output_type": "stream",
     "text": [
      "======================================================================================================================================================\n",
      "Running CSDfactor... 0.00s\n",
      "Total multiplexed single-qubit gates: 3\n",
      "Running extract_unitaries... 0.00s\n",
      "running reconstruct_with_CX... 0.01s\n",
      "cu identity gates removed by extract_unitaries: 1\n",
      "total cu gates after extract_unitaries: 5\n",
      "total cx gates after convert_to_cx: 10\n",
      "total cnx gates: 10\n",
      "Done\n",
      "0.3173140730682316\n"
     ]
    },
    {
     "data": {
      "text/html": [
       "<pre style=\"word-wrap: normal;white-space: pre;background: #fff0;line-height: 1.1;font-family: &quot;Courier New&quot;,Courier,monospace\">          ┌───┐┌───┐┌───┐┌───┐    ┌───┐     ┌───┐          ┌───┐┌───┐┌───┐    ┌───┐                                                    ┌───┐┌───┐»\n",
       "q14378_0: ┤ C ├┤ X ├┤ B ├┤ X ├────┤ A ├─────┤ C ├──────────┤ X ├┤ B ├┤ X ├────┤ A ├────────────────■────────────────────────────────■──┤ C ├┤ X ├»\n",
       "          └───┘└─┬─┘└───┘└─┬─┘    └───┘     └───┘┌───┐     └─┬─┘└───┘└─┬─┘    └───┘         ┌───┐  │  ┌───┐┌───┐┌───┐┌───┐ ┌───┐    │  └───┘└─┬─┘»\n",
       "q14378_1: ──■────┼─────────┼──────────────────■──┤ X ├──■────┼─────────┼─────────────────■──┤ X ├──┼──┤ C ├┤ X ├┤ B ├┤ X ├─┤ A ├────┼────■────┼──»\n",
       "          ┌─┴─┐  │         │  ┌────────────┐┌─┴─┐└───┘┌─┴─┐  │         │  ┌───────────┐┌─┴─┐└───┘┌─┴─┐└───┘└─┬─┘└───┘└─┬─┘┌┴───┴─┐┌─┴─┐┌─┴─┐  │  »\n",
       "      a8: ┤ X ├──■─────────■──┤ P(0.57241) ├┤ X ├─────┤ X ├──■─────────■──┤ P(1.0722) ├┤ X ├─────┤ X ├───────■─────────■──┤ P(0) ├┤ X ├┤ X ├──■──»\n",
       "          └───┘               └────────────┘└───┘     └───┘               └───────────┘└───┘     └───┘                    └──────┘└───┘└───┘     »\n",
       "«          ┌───┐┌───┐    ┌───┐    ┌───┐          ┌───┐┌───┐┌───┐    ┌───┐               \n",
       "«q14378_0: ┤ B ├┤ X ├────┤ A ├────┤ C ├──────────┤ X ├┤ B ├┤ X ├────┤ A ├───────────────\n",
       "«          └───┘└─┬─┘    └───┘    └───┘┌───┐     └─┬─┘└───┘└─┬─┘    └───┘          ┌───┐\n",
       "«q14378_1: ───────┼─────────────────■──┤ X ├──■────┼─────────┼──────────────────■──┤ X ├\n",
       "«                 │  ┌───────────┐┌─┴─┐└───┘┌─┴─┐  │         │  ┌────────────┐┌─┴─┐└───┘\n",
       "«      a8: ───────■──┤ P(3.7806) ├┤ X ├─────┤ X ├──■─────────■──┤ P(0.28684) ├┤ X ├─────\n",
       "«                    └───────────┘└───┘     └───┘               └────────────┘└───┘     </pre>"
      ],
      "text/plain": [
       "          ┌───┐┌───┐┌───┐┌───┐    ┌───┐     ┌───┐          ┌───┐┌───┐┌───┐    ┌───┐                                                    ┌───┐┌───┐»\n",
       "q14378_0: ┤ C ├┤ X ├┤ B ├┤ X ├────┤ A ├─────┤ C ├──────────┤ X ├┤ B ├┤ X ├────┤ A ├────────────────■────────────────────────────────■──┤ C ├┤ X ├»\n",
       "          └───┘└─┬─┘└───┘└─┬─┘    └───┘     └───┘┌───┐     └─┬─┘└───┘└─┬─┘    └───┘         ┌───┐  │  ┌───┐┌───┐┌───┐┌───┐ ┌───┐    │  └───┘└─┬─┘»\n",
       "q14378_1: ──■────┼─────────┼──────────────────■──┤ X ├──■────┼─────────┼─────────────────■──┤ X ├──┼──┤ C ├┤ X ├┤ B ├┤ X ├─┤ A ├────┼────■────┼──»\n",
       "          ┌─┴─┐  │         │  ┌────────────┐┌─┴─┐└───┘┌─┴─┐  │         │  ┌───────────┐┌─┴─┐└───┘┌─┴─┐└───┘└─┬─┘└───┘└─┬─┘┌┴───┴─┐┌─┴─┐┌─┴─┐  │  »\n",
       "      a8: ┤ X ├──■─────────■──┤ P(0.57241) ├┤ X ├─────┤ X ├──■─────────■──┤ P(1.0722) ├┤ X ├─────┤ X ├───────■─────────■──┤ P(0) ├┤ X ├┤ X ├──■──»\n",
       "          └───┘               └────────────┘└───┘     └───┘               └───────────┘└───┘     └───┘                    └──────┘└───┘└───┘     »\n",
       "«          ┌───┐┌───┐    ┌───┐    ┌───┐          ┌───┐┌───┐┌───┐    ┌───┐               \n",
       "«q14378_0: ┤ B ├┤ X ├────┤ A ├────┤ C ├──────────┤ X ├┤ B ├┤ X ├────┤ A ├───────────────\n",
       "«          └───┘└─┬─┘    └───┘    └───┘┌───┐     └─┬─┘└───┘└─┬─┘    └───┘          ┌───┐\n",
       "«q14378_1: ───────┼─────────────────■──┤ X ├──■────┼─────────┼──────────────────■──┤ X ├\n",
       "«                 │  ┌───────────┐┌─┴─┐└───┘┌─┴─┐  │         │  ┌────────────┐┌─┴─┐└───┘\n",
       "«      a8: ───────■──┤ P(3.7806) ├┤ X ├─────┤ X ├──■─────────■──┤ P(0.28684) ├┤ X ├─────\n",
       "«                    └───────────┘└───┘     └───┘               └────────────┘└───┘     "
      ]
     },
     "metadata": {},
     "output_type": "display_data"
    },
    {
     "name": "stdout",
     "output_type": "stream",
     "text": [
      "======================================================================================================================================================\n",
      "Running CSDfactor... 0.00s\n",
      "Total multiplexed single-qubit gates: 3\n",
      "Running extract_unitaries... 0.00s\n",
      "running reconstruct_with_CU... 0.05s\n",
      "Done\n",
      "1.0\n"
     ]
    },
    {
     "data": {
      "text/html": [
       "<pre style=\"word-wrap: normal;white-space: pre;background: #fff0;line-height: 1.1;font-family: &quot;Courier New&quot;,Courier,monospace\">     ┌─────────┐     ┌─────────┐                ┌─────────┐     ┌─────────┐     \n",
       "q_0: ┤ Unitary ├─────┤ Unitary ├──────────■─────┤ Unitary ├─────┤ Unitary ├─────\n",
       "     └────┬────┘┌───┐└────┬────┘┌───┐┌────┴────┐└────┬────┘┌───┐└────┬────┘┌───┐\n",
       "q_1: ─────■─────┤ X ├─────■─────┤ X ├┤ Unitary ├─────■─────┤ X ├─────■─────┤ X ├\n",
       "                └───┘           └───┘└─────────┘           └───┘           └───┘</pre>"
      ],
      "text/plain": [
       "     ┌─────────┐     ┌─────────┐                ┌─────────┐     ┌─────────┐     \n",
       "q_0: ┤ Unitary ├─────┤ Unitary ├──────────■─────┤ Unitary ├─────┤ Unitary ├─────\n",
       "     └────┬────┘┌───┐└────┬────┘┌───┐┌────┴────┐└────┬────┘┌───┐└────┬────┘┌───┐\n",
       "q_1: ─────■─────┤ X ├─────■─────┤ X ├┤ Unitary ├─────■─────┤ X ├─────■─────┤ X ├\n",
       "                └───┘           └───┘└─────────┘           └───┘           └───┘"
      ]
     },
     "metadata": {},
     "output_type": "display_data"
    }
   ],
   "source": [
    "import os\n",
    "from functools import reduce\n",
    "#u = np.kron(Z, np.kron(X,Y))\n",
    "u = \"QASMBench/small/iswap_n2/iswap_n2.qasm\"\n",
    "#u = random_u(2)\n",
    "d = decomp.Decomposer(u, optimize=False, csdstop=2)\n",
    "u0 = d.unitary\n",
    "nbits = int(np.log2(u0.shape[0]))\n",
    "#display(sympy.Matrix(u0))\n",
    "\n",
    "print('='*150)\n",
    "\n",
    "d.reconstruct_with_CX()\n",
    "print('Done')\n",
    "\n",
    "size = 2**nbits\n",
    "\n",
    "backend = Aer.get_backend('unitary_simulator')\n",
    "job = execute(d.circuit, backend)\n",
    "result = job.result()\n",
    "unitary = np.array(result.get_unitary(d.circuit, decimals=10))[:size, :size]\n",
    "print(fid(u0,unitary))\n",
    "#display(sympy.Matrix(unitary))\n",
    "if nbits <= 3:\n",
    "    display(d.circuit.draw(fold=150))\n",
    "\n",
    "d = decomp.Decomposer(u, optimize=False)\n",
    "u0 = d.unitary\n",
    "nbits = int(np.log2(u0.shape[0]))\n",
    "#display(sympy.Matrix(u))\n",
    "\n",
    "print('='*150)\n",
    "\n",
    "d.reconstruct_with_CU()\n",
    "print('Done')\n",
    "\n",
    "size = 2**nbits\n",
    "\n",
    "backend = Aer.get_backend('unitary_simulator')\n",
    "job = execute(d.circuit, backend)\n",
    "result = job.result()\n",
    "unitary = np.array(result.get_unitary(d.circuit, decimals=10))[:size, :size]\n",
    "print(fid(u0,unitary))\n",
    "#display(sympy.Matrix(unitary))\n",
    "if nbits <= 3:\n",
    "    display(d.circuit.draw(fold=150))"
   ]
  },
  {
   "cell_type": "markdown",
   "metadata": {},
   "source": [
    "We can decompose the multi-controlled U gate into three $C^{n-1}X$ gates (and then to $C^{n-1}Z$ gates) through the following:"
   ]
  },
  {
   "cell_type": "code",
   "execution_count": 4,
   "metadata": {},
   "outputs": [
    {
     "data": {
      "text/html": [
       "<pre style=\"word-wrap: normal;white-space: pre;background: #fff0;line-height: 1.1;font-family: &quot;Courier New&quot;,Courier,monospace\">                \n",
       "q_0: ─────■─────\n",
       "          │     \n",
       "q_1: ─────■─────\n",
       "     ┌────┴────┐\n",
       "q_2: ┤ Unitary ├\n",
       "     └─────────┘</pre>"
      ],
      "text/plain": [
       "                \n",
       "q_0: ─────■─────\n",
       "          │     \n",
       "q_1: ─────■─────\n",
       "     ┌────┴────┐\n",
       "q_2: ┤ Unitary ├\n",
       "     └─────────┘"
      ]
     },
     "metadata": {},
     "output_type": "display_data"
    },
    {
     "data": {
      "text/html": [
       "<pre style=\"word-wrap: normal;white-space: pre;background: #fff0;line-height: 1.1;font-family: &quot;Courier New&quot;,Courier,monospace\">                                                                             \n",
       "q_0: ───────■─────────■─────────■───────────────────■────────────────■───────\n",
       "            │         │         │                   │                │       \n",
       "q_1: ───────■─────────■─────────■───────────────────■────────────────■───────\n",
       "     ┌───┐┌─┴─┐┌───┐┌─┴─┐┌───┐┌─┴─┐┌─────────────┐┌─┴─┐┌───────────┐ │P(π/2) \n",
       "q_2: ┤ C ├┤ X ├┤ B ├┤ X ├┤ A ├┤ X ├┤ U^t(0,-a,0) ├┤ X ├┤ U(0,-a,0) ├─■───────\n",
       "     └───┘└───┘└───┘└───┘└───┘└───┘└─────────────┘└───┘└───────────┘         </pre>"
      ],
      "text/plain": [
       "                                                                             \n",
       "q_0: ───────■─────────■─────────■───────────────────■────────────────■───────\n",
       "            │         │         │                   │                │       \n",
       "q_1: ───────■─────────■─────────■───────────────────■────────────────■───────\n",
       "     ┌───┐┌─┴─┐┌───┐┌─┴─┐┌───┐┌─┴─┐┌─────────────┐┌─┴─┐┌───────────┐ │P(π/2) \n",
       "q_2: ┤ C ├┤ X ├┤ B ├┤ X ├┤ A ├┤ X ├┤ U^t(0,-a,0) ├┤ X ├┤ U(0,-a,0) ├─■───────\n",
       "     └───┘└───┘└───┘└───┘└───┘└───┘└─────────────┘└───┘└───────────┘         "
      ]
     },
     "execution_count": 4,
     "metadata": {},
     "output_type": "execute_result"
    }
   ],
   "source": [
    "from qiskit.circuit import Gate, ControlledGate\n",
    "import qiskit.circuit\n",
    "from qiskit.circuit.library import ZGate, PhaseGate\n",
    "from qiskit.quantum_info import Operator\n",
    "\n",
    "ccz = ZGate().control(2)\n",
    "\n",
    "u = Operator([[1,0],[0,1]]).to_instruction().control(2)\n",
    "u.name = 'U'\n",
    "qc = QuantumCircuit(3)\n",
    "qc.append(u, [0,1,2])\n",
    "display(qc.draw())\n",
    "\n",
    "qc = QuantumCircuit(3)\n",
    "qc.append(Gate(name='C', num_qubits=1, params=[]), [2])\n",
    "qc.toffoli(0,1,2)\n",
    "qc.append(Gate(name='B', num_qubits=1, params=[]), [2])\n",
    "qc.toffoli(0,1,2)\n",
    "qc.append(Gate(name='A', num_qubits=1, params=[]), [2])\n",
    "qc.toffoli(0,1,2)\n",
    "qc.append(Gate(name='U^t(0,-a,0)', num_qubits=1, params=[]), [2])\n",
    "qc.toffoli(0,1,2)\n",
    "qc.append(Gate(name='U(0,-a,0)', num_qubits=1, params=[]), [2])\n",
    "qc.append(PhaseGate(pi/2).control(2), [0,1,2])\n",
    "qc.draw(fold=-1)"
   ]
  },
  {
   "cell_type": "markdown",
   "metadata": {},
   "source": [
    "where $U = e^{ia}AXBXC$ (N&C page 180). The last five gates correspond to a controlled $e^{i \\alpha}$ phase applied to the target bit.\n",
    "\n",
    "From here, this can easily be converted to CZ gates with $A' = HA, B' = HBH, C' = CH, U' = UH$"
   ]
  },
  {
   "cell_type": "code",
   "execution_count": 5,
   "metadata": {},
   "outputs": [
    {
     "ename": "AttributeError",
     "evalue": "module 'decomp' has no attribute 'CSDfactor'",
     "output_type": "error",
     "traceback": [
      "\u001b[0;31m---------------------------------------------------------------------------\u001b[0m",
      "\u001b[0;31mAttributeError\u001b[0m                            Traceback (most recent call last)",
      "\u001b[1;32m/home/jchad/projects/qc/decomp.ipynb Cell 7\u001b[0m in \u001b[0;36m<cell line: 4>\u001b[0;34m()\u001b[0m\n\u001b[1;32m      <a href='vscode-notebook-cell:/home/jchad/projects/qc/decomp.ipynb#ch0000006?line=1'>2</a>\u001b[0m u \u001b[39m=\u001b[39m np\u001b[39m.\u001b[39mkron(Z,Y)\n\u001b[1;32m      <a href='vscode-notebook-cell:/home/jchad/projects/qc/decomp.ipynb#ch0000006?line=2'>3</a>\u001b[0m acc \u001b[39m=\u001b[39m np\u001b[39m.\u001b[39midentity(\u001b[39m4\u001b[39m)\n\u001b[0;32m----> <a href='vscode-notebook-cell:/home/jchad/projects/qc/decomp.ipynb#ch0000006?line=3'>4</a>\u001b[0m \u001b[39mfor\u001b[39;00m m \u001b[39min\u001b[39;00m decomp\u001b[39m.\u001b[39;49mCSDfactor(u):\n\u001b[1;32m      <a href='vscode-notebook-cell:/home/jchad/projects/qc/decomp.ipynb#ch0000006?line=4'>5</a>\u001b[0m     \u001b[39mfor\u001b[39;00m ex \u001b[39min\u001b[39;00m decomp\u001b[39m.\u001b[39mextract_unitaries(m)[\u001b[39m1\u001b[39m]:\n\u001b[1;32m      <a href='vscode-notebook-cell:/home/jchad/projects/qc/decomp.ipynb#ch0000006?line=5'>6</a>\u001b[0m         display(sympy\u001b[39m.\u001b[39mMatrix(ex))\n",
      "\u001b[0;31mAttributeError\u001b[0m: module 'decomp' has no attribute 'CSDfactor'"
     ]
    }
   ],
   "source": [
    "# TODO: recognize that this is a tensor product of two single-qubit gates\n",
    "u = np.kron(Z,Y)\n",
    "acc = np.identity(4)\n",
    "for m in decomp.CSDfactor(u):\n",
    "    for ex in decomp.extract_unitaries(m)[1]:\n",
    "        display(sympy.Matrix(ex))\n",
    "        acc = acc @ ex\n",
    "display(sympy.Matrix(acc))"
   ]
  },
  {
   "cell_type": "code",
   "execution_count": null,
   "metadata": {},
   "outputs": [],
   "source": [
    "u = random_u(8)\n",
    "csd = decomp.CSDfactor(u)\n",
    "for m in csd:\n",
    "    decomp.extract_unitaries(m)"
   ]
  },
  {
   "cell_type": "code",
   "execution_count": null,
   "metadata": {},
   "outputs": [],
   "source": [
    "a,A,B,C = ABC(twoq)"
   ]
  },
  {
   "cell_type": "code",
   "execution_count": null,
   "metadata": {},
   "outputs": [],
   "source": [
    "sympy.Matrix(np.exp(1j*a) * (A @ np.kron(X,X) @ B @ np.kron(X,X) @ C))"
   ]
  },
  {
   "cell_type": "code",
   "execution_count": null,
   "metadata": {},
   "outputs": [],
   "source": [
    "from qiskit.compiler import transpile\n",
    "qc = QuantumCircuit.from_qasm_file('QASMBench/small/dnn_n2/dnn_n2.qasm')\n",
    "transpile(qc, basis_gates=['u3', 'cx'], optimization_level=3).draw()"
   ]
  },
  {
   "cell_type": "code",
   "execution_count": null,
   "metadata": {},
   "outputs": [],
   "source": [
    "sympy.Matrix(rx(np.pi/3))"
   ]
  },
  {
   "cell_type": "code",
   "execution_count": null,
   "metadata": {},
   "outputs": [],
   "source": [
    "sympy.Matrix(np.kron(ry(np.pi/3), ry(-np.pi/3)) @ CNOT @ np.kron(ry(-np.pi/3), ry(np.pi/3)))"
   ]
  },
  {
   "cell_type": "code",
   "execution_count": null,
   "metadata": {},
   "outputs": [],
   "source": [
    "# want to get this matrix:\n",
    "sympy.Matrix([\n",
    "    [1, 0, 0, 0],\n",
    "    [0, 1, 0, 0],\n",
    "    [0, 0, 0.8, 0.6],\n",
    "    [0, 0, 0.6, 0.8]\n",
    "])"
   ]
  },
  {
   "cell_type": "code",
   "execution_count": null,
   "metadata": {},
   "outputs": [],
   "source": [
    "sympy.Matrix(np.kron(rz(np.pi/3), rz(-np.pi/3)))"
   ]
  },
  {
   "cell_type": "code",
   "execution_count": null,
   "metadata": {},
   "outputs": [],
   "source": [
    "linalg.sqrtm(CNOT)"
   ]
  },
  {
   "cell_type": "code",
   "execution_count": null,
   "metadata": {},
   "outputs": [],
   "source": [
    "# goal: apply rotation of top qubit onto bottom qubit - needed for my construction\n",
    "# can it be done with rz? use formula for controlled rz, but do the A and B matrices on the other qubit?"
   ]
  },
  {
   "cell_type": "code",
   "execution_count": null,
   "metadata": {},
   "outputs": [],
   "source": []
  },
  {
   "cell_type": "code",
   "execution_count": null,
   "metadata": {},
   "outputs": [
    {
     "data": {
      "text/plain": [
       "[0j, 0j, (1+0j), 0j, 0j, 0j, 0j, 0j, 0j, 0j, 0j, 0j, 0j, 0j, 0j, 0j]"
      ]
     },
     "execution_count": 10,
     "metadata": {},
     "output_type": "execute_result"
    }
   ],
   "source": [
    "pauli_decomp(np.kron(X,Z))"
   ]
  },
  {
   "cell_type": "code",
   "execution_count": null,
   "metadata": {},
   "outputs": [
    {
     "data": {
      "text/plain": [
       "array([[ 0.+0.j,  0.+0.j,  1.+0.j,  0.+0.j],\n",
       "       [ 0.+0.j,  0.+0.j,  0.+0.j, -1.+0.j],\n",
       "       [ 1.+0.j,  0.+0.j,  0.+0.j,  0.+0.j],\n",
       "       [ 0.+0.j, -1.+0.j,  0.+0.j,  0.+0.j]])"
      ]
     },
     "execution_count": 12,
     "metadata": {},
     "output_type": "execute_result"
    }
   ],
   "source": [
    "pauli_reconstruct(pauli_decomp(np.kron(X,Z)), 2)"
   ]
  },
  {
   "cell_type": "code",
   "execution_count": null,
   "metadata": {},
   "outputs": [
    {
     "data": {
      "text/plain": [
       "array([[ 0.+0.j,  0.+0.j,  1.+0.j,  0.+0.j],\n",
       "       [ 0.+0.j, -0.+0.j,  0.+0.j, -1.+0.j],\n",
       "       [ 1.+0.j,  0.+0.j,  0.+0.j,  0.+0.j],\n",
       "       [ 0.+0.j, -1.+0.j,  0.+0.j, -0.+0.j]])"
      ]
     },
     "execution_count": 13,
     "metadata": {},
     "output_type": "execute_result"
    }
   ],
   "source": [
    "np.kron(X,Z)"
   ]
  },
  {
   "cell_type": "code",
   "execution_count": null,
   "metadata": {},
   "outputs": [],
   "source": []
  }
 ],
 "metadata": {
  "kernelspec": {
   "display_name": "Python 3.10.5 ('qc')",
   "language": "python",
   "name": "python3"
  },
  "language_info": {
   "codemirror_mode": {
    "name": "ipython",
    "version": 3
   },
   "file_extension": ".py",
   "mimetype": "text/x-python",
   "name": "python",
   "nbconvert_exporter": "python",
   "pygments_lexer": "ipython3",
   "version": "3.10.5"
  },
  "orig_nbformat": 4,
  "vscode": {
   "interpreter": {
    "hash": "4052f8a41a31fc5cbd2e3526dbc8abbffa51b82c1f3d5451a58f494cdae71e31"
   }
  }
 },
 "nbformat": 4,
 "nbformat_minor": 2
}
