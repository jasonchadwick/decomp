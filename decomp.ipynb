{
 "cells": [
  {
   "cell_type": "code",
   "execution_count": null,
   "metadata": {},
   "outputs": [],
   "source": [
    "import os\n",
    "from qiskit import *\n",
    "from qiskit import QuantumCircuit, Aer\n",
    "import qiskit.circuit.library as library\n",
    "import sympy\n",
    "import numpy as np\n",
    "from numpy import pi\n",
    "from scipy import linalg\n",
    "from functools import reduce\n",
    "import itertools\n",
    "\n",
    "from qc_utils.gates import *\n",
    "import qc_utils.idx as idx\n",
    "import decomp\n",
    "\n",
    "import sympy"
   ]
  },
  {
   "cell_type": "code",
   "execution_count": null,
   "metadata": {},
   "outputs": [],
   "source": [
    "def run_small():\n",
    "    fids = []\n",
    "    for dir in os.listdir('QASMBench/small'):\n",
    "        try:\n",
    "            print('='*80)\n",
    "            u = f'QASMBench/small/{dir}/{dir}.qasm'\n",
    "            print(dir)\n",
    "            d = decomp.Decomposer(u, False)\n",
    "            u = d.unitary\n",
    "\n",
    "            d.reconstruct_with_CX()\n",
    "            qc = d.circuit\n",
    "            backend = Aer.get_backend('unitary_simulator')\n",
    "            job = execute(qc, backend)\n",
    "            result = job.result()\n",
    "            unitary = np.array(result.get_unitary(qc, decimals=10))[:u.shape[0], :u.shape[0]]\n",
    "            print(fid(u,unitary))\n",
    "            fids.append((dir, fid(u,unitary)))\n",
    "            #print('SUCCESS,' if np.all(np.isclose(u, unitary)) else 'FAIL,', 'fidelity:', fid(u, unitary))\n",
    "            #display(sympy.Matrix(unitary))\n",
    "            #display(qc.draw(fold=150))\n",
    "        except Exception as e:\n",
    "            print(e)\n",
    "    return fids\n",
    "#f = run_small()"
   ]
  },
  {
   "cell_type": "code",
   "execution_count": null,
   "metadata": {},
   "outputs": [],
   "source": [
    "import os\n",
    "from functools import reduce\n",
    "#u = np.kron(Z, np.kron(X,Y))\n",
    "u = \"QASMBench/small/iswap_n2/iswap_n2.qasm\"\n",
    "#u = random_u(2)\n",
    "d = decomp.Decomposer(u, optimize=False, csdstop=2)\n",
    "u0 = d.unitary\n",
    "nbits = int(np.log2(u0.shape[0]))\n",
    "#display(sympy.Matrix(u0))\n",
    "\n",
    "print('='*150)\n",
    "\n",
    "d.reconstruct_with_CX()\n",
    "print('Done')\n",
    "\n",
    "size = 2**nbits\n",
    "\n",
    "backend = Aer.get_backend('unitary_simulator')\n",
    "job = execute(d.circuit, backend)\n",
    "result = job.result()\n",
    "unitary = np.array(result.get_unitary(d.circuit, decimals=10))[:size, :size]\n",
    "print(fid(u0,unitary))\n",
    "#display(sympy.Matrix(unitary))\n",
    "if nbits <= 3:\n",
    "    display(d.circuit.draw(fold=150))\n",
    "\n",
    "d = decomp.Decomposer(u, optimize=False)\n",
    "u0 = d.unitary\n",
    "nbits = int(np.log2(u0.shape[0]))\n",
    "#display(sympy.Matrix(u))\n",
    "\n",
    "print('='*150)\n",
    "\n",
    "d.reconstruct_with_CU()\n",
    "print('Done')\n",
    "\n",
    "size = 2**nbits\n",
    "\n",
    "backend = Aer.get_backend('unitary_simulator')\n",
    "job = execute(d.circuit, backend)\n",
    "result = job.result()\n",
    "unitary = np.array(result.get_unitary(d.circuit, decimals=10))[:size, :size]\n",
    "print(fid(u0,unitary))\n",
    "#display(sympy.Matrix(unitary))\n",
    "if nbits <= 3:\n",
    "    display(d.circuit.draw(fold=150))"
   ]
  },
  {
   "cell_type": "markdown",
   "metadata": {},
   "source": [
    "We can decompose the multi-controlled U gate into three $C^{n-1}X$ gates (and then to $C^{n-1}Z$ gates) through the following:"
   ]
  },
  {
   "cell_type": "code",
   "execution_count": null,
   "metadata": {},
   "outputs": [],
   "source": [
    "from qiskit.circuit import Gate, ControlledGate\n",
    "import qiskit.circuit\n",
    "from qiskit.circuit.library import ZGate, PhaseGate\n",
    "from qiskit.quantum_info import Operator\n",
    "\n",
    "ccz = ZGate().control(2)\n",
    "\n",
    "u = Operator([[1,0],[0,1]]).to_instruction().control(2)\n",
    "u.name = 'U'\n",
    "qc = QuantumCircuit(3)\n",
    "qc.append(u, [0,1,2])\n",
    "display(qc.draw())\n",
    "\n",
    "qc = QuantumCircuit(3)\n",
    "qc.append(Gate(name='C', num_qubits=1, params=[]), [2])\n",
    "qc.toffoli(0,1,2)\n",
    "qc.append(Gate(name='B', num_qubits=1, params=[]), [2])\n",
    "qc.toffoli(0,1,2)\n",
    "qc.append(Gate(name='A', num_qubits=1, params=[]), [2])\n",
    "qc.toffoli(0,1,2)\n",
    "qc.append(Gate(name='U^t(0,-a,0)', num_qubits=1, params=[]), [2])\n",
    "qc.toffoli(0,1,2)\n",
    "qc.append(Gate(name='U(0,-a,0)', num_qubits=1, params=[]), [2])\n",
    "qc.append(PhaseGate(pi/2).control(2), [0,1,2])\n",
    "qc.draw(fold=-1)"
   ]
  },
  {
   "cell_type": "markdown",
   "metadata": {},
   "source": [
    "where $U = e^{ia}AXBXC$ (N&C page 180). The last five gates correspond to a controlled $e^{i \\alpha}$ phase applied to the target bit.\n",
    "\n",
    "From here, this can easily be converted to CZ gates with $A' = HA, B' = HBH, C' = CH, U' = UH$"
   ]
  },
  {
   "cell_type": "code",
   "execution_count": null,
   "metadata": {},
   "outputs": [],
   "source": [
    "from qiskit.compiler import transpile\n",
    "qc = QuantumCircuit.from_qasm_file('QASMBench/small/dnn_n2/dnn_n2.qasm')\n",
    "transpile(qc, basis_gates=['u3', 'cx'], optimization_level=3).draw()"
   ]
  },
  {
   "cell_type": "code",
   "execution_count": null,
   "metadata": {},
   "outputs": [],
   "source": [
    "pauli_decomp(np.kron(X,Z))"
   ]
  },
  {
   "cell_type": "code",
   "execution_count": null,
   "metadata": {},
   "outputs": [],
   "source": [
    "pauli_reconstruct(pauli_decomp(np.kron(X,Z)), 2)"
   ]
  },
  {
   "cell_type": "code",
   "execution_count": null,
   "metadata": {},
   "outputs": [],
   "source": [
    "np.kron(X,Z)"
   ]
  },
  {
   "cell_type": "code",
   "execution_count": null,
   "metadata": {},
   "outputs": [],
   "source": []
  }
 ],
 "metadata": {
  "kernelspec": {
   "display_name": "Python 3.10.5 ('qc')",
   "language": "python",
   "name": "python3"
  },
  "language_info": {
   "codemirror_mode": {
    "name": "ipython",
    "version": 3
   },
   "file_extension": ".py",
   "mimetype": "text/x-python",
   "name": "python",
   "nbconvert_exporter": "python",
   "pygments_lexer": "ipython3",
   "version": "3.10.5"
  },
  "orig_nbformat": 4,
  "vscode": {
   "interpreter": {
    "hash": "4052f8a41a31fc5cbd2e3526dbc8abbffa51b82c1f3d5451a58f494cdae71e31"
   }
  }
 },
 "nbformat": 4,
 "nbformat_minor": 2
}
